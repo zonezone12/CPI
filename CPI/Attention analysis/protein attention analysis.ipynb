{
 "cells": [
  {
   "cell_type": "code",
   "execution_count": 13,
   "metadata": {},
   "outputs": [],
   "source": [
    "import numpy as np\n",
    "from rdkit import Chem\n",
    "from rdkit.Chem import Descriptors\n",
    "\n",
    "num_atom_feat = 34\n",
    "def one_of_k_encoding(x, allowable_set):\n",
    "    if x not in allowable_set:\n",
    "        raise Exception(\"input {0} not in allowable set{1}:\".format(\n",
    "            x, allowable_set))\n",
    "    return [x == s for s in allowable_set]\n",
    "\n",
    "\n",
    "def one_of_k_encoding_unk(x, allowable_set):\n",
    "    \"\"\"Maps inputs not in the allowable set to the last element.\"\"\"\n",
    "    if x not in allowable_set:\n",
    "        x = allowable_set[-1]\n",
    "    return [x == s for s in allowable_set]\n",
    "\n",
    "\n",
    "def atom_features(atom,explicit_H=False,use_chirality=True):\n",
    "    \"\"\"Generate atom features including atom symbol(10),degree(7),formal charge,\n",
    "    radical electrons,hybridization(6),aromatic(1),Chirality(3)\n",
    "    \"\"\"\n",
    "    symbol = ['C', 'N', 'O', 'F', 'P', 'S', 'Cl', 'Br', 'I', 'other']  # 10-dim\n",
    "    degree = [0, 1, 2, 3, 4, 5, 6]  # 7-dim\n",
    "    hybridizationType = [Chem.rdchem.HybridizationType.SP,\n",
    "                              Chem.rdchem.HybridizationType.SP2,\n",
    "                              Chem.rdchem.HybridizationType.SP3,\n",
    "                              Chem.rdchem.HybridizationType.SP3D,\n",
    "                              Chem.rdchem.HybridizationType.SP3D2,\n",
    "                              'other']   # 6-dim\n",
    "    results = one_of_k_encoding_unk(atom.GetSymbol(),symbol) + \\\n",
    "                  one_of_k_encoding(atom.GetDegree(),degree) + \\\n",
    "                  [atom.GetFormalCharge(), atom.GetNumRadicalElectrons()] + \\\n",
    "                  one_of_k_encoding_unk(atom.GetHybridization(), hybridizationType) + [atom.GetIsAromatic()]  # 10+7+2+6+1=26\n",
    "\n",
    "    # In case of explicit hydrogen(QM8, QM9), avoid calling `GetTotalNumHs`\n",
    "    if not explicit_H:\n",
    "        results = results + one_of_k_encoding_unk(atom.GetTotalNumHs(),\n",
    "                                                      [0, 1, 2, 3, 4])   # 26+5=31\n",
    "    if use_chirality:\n",
    "        try:\n",
    "            results = results + one_of_k_encoding_unk(\n",
    "                    atom.GetProp('_CIPCode'),\n",
    "                    ['R', 'S']) + [atom.HasProp('_ChiralityPossible')]\n",
    "        except:\n",
    "            results = results + [False, False] + [atom.HasProp('_ChiralityPossible')]  # 31+3 =34\n",
    "    return results\n",
    "\n",
    "\n",
    "def adjacent_matrix(mol):\n",
    "    adjacency = Chem.GetAdjacencyMatrix(mol)\n",
    "    return np.array(adjacency)\n",
    "\n",
    "\n",
    "def mol_features(smiles):\n",
    "    try:\n",
    "        mol = Chem.MolFromSmiles(smiles)\n",
    "    except:\n",
    "        raise RuntimeError(\"SMILES cannot been parsed!\")\n",
    "    mol = Chem.AddHs(mol)\n",
    "    atom_feat = np.zeros((mol.GetNumAtoms(), num_atom_feat))\n",
    "    for atom in mol.GetAtoms():\n",
    "        atom_feat[atom.GetIdx(), :] = atom_features(atom)\n",
    "    adj_matrix = adjacent_matrix(mol)\n",
    "    return atom_feat, adj_matrix\n",
    "\n",
    "def load_tensor(file_name, dtype):\n",
    "    return dtype(file_name).to(device) \n"
   ]
  },
  {
   "cell_type": "code",
   "execution_count": 14,
   "metadata": {},
   "outputs": [
    {
     "name": "stdout",
     "output_type": "stream",
     "text": [
      "The code uses CPU!!!\n"
     ]
    }
   ],
   "source": [
    "from word2vec import seq_to_kmers, get_protein_embedding\n",
    "from gensim.models import Word2Vec\n",
    "import torch\n",
    "import os\n",
    "\n",
    "\"\"\"CPU or GPU\"\"\"\n",
    "if torch.cuda.is_available():\n",
    "    device = torch.device('cuda:0')\n",
    "    print('The code uses GPU...')\n",
    "else:\n",
    "    device = torch.device('cpu')\n",
    "    print('The code uses CPU!!!')\n",
    "\n",
    "compounds, adjacencies,proteins,interactions = [], [], [], []\n",
    "compound = \"C1=CC=C2C(=C1)C3=NNC4=CC=CC(=C43)C2=O\"\n",
    "atom_feature ,adj = mol_features(compound)\n",
    "compounds.append(atom_feature)\n",
    "adjacencies.append(adj)\n",
    "adjacencies = np.array(adjacencies)\n",
    "model = Word2Vec.load(\"word2vec_30.model\")\n",
    "sequence = \"MSRSKRDNNFYSVEIGDSTFTVLKRYQNLKPIGSGAQGIVCAAYDAILERNVAIKKLSRPFQNQTHAKRAYRELVLMKCVNHKNIIGLLNVFTPQKSLEEFQDVYIVMELMDANLCQVIQMELDHERMSYLLYQMLCGIKHLHSAGIIHRDLKPSNIVVKSDCTLKILDFGLARTAGTSFMMTPYVVTRYYRAPEVILGMGYKENVDLWSVGCIMGEMVCHKILFPGRDYIDQWNKVIEQLGTPCPEFMKKLQPTVRTYVENRPKYAGYSFEKLFPDVLFPADSEHNKLKASQARDLLSKMLVIDASKRISVDEALQHPYINVWYDPSEAEAPPPKIPDKQLDEREHTIEEWKELIYKEVMDLEERTKNGVIRGQPSPLGAAVINGSQHPSSSSSVNDVSSMSTDPTLASDTDSSLEAAAGPLGCCR\"\n",
    "protein_embedding = get_protein_embedding(model, seq_to_kmers(sequence))\n",
    "proteins.append(protein_embedding)\n",
    "interactions.append(np.array([1.0]))\n",
    "\n",
    "compounds = load_tensor(compounds, torch.FloatTensor)\n",
    "adjacencies = load_tensor(adjacencies.astype(np.float32), torch.FloatTensor)\n",
    "proteins = load_tensor(proteins, torch.FloatTensor)\n",
    "interactions = load_tensor(interactions, torch.LongTensor)\n",
    "protein_num = [len(sequence)]\n",
    "mol = Chem.MolFromSmiles(compound)\n",
    "atom_num = [mol.GetNumAtoms()]\n",
    "dataset = (compounds, adjacencies, proteins, interactions,atom_num,protein_num)"
   ]
  },
  {
   "cell_type": "code",
   "execution_count": 6,
   "metadata": {},
   "outputs": [
    {
     "data": {
      "text/plain": [
       "[31]"
      ]
     },
     "execution_count": 6,
     "metadata": {},
     "output_type": "execute_result"
    }
   ],
   "source": [
    "atom_num"
   ]
  },
  {
   "cell_type": "code",
   "execution_count": 22,
   "metadata": {},
   "outputs": [
    {
     "data": {
      "text/plain": [
       "device(type='cpu')"
      ]
     },
     "execution_count": 22,
     "metadata": {},
     "output_type": "execute_result"
    }
   ],
   "source": [
    "device\n"
   ]
  },
  {
   "cell_type": "code",
   "execution_count": 15,
   "metadata": {},
   "outputs": [
    {
     "data": {
      "text/plain": [
       "Predictor(\n",
       "  (encoder): Encoder(\n",
       "    (convs): ModuleList(\n",
       "      (0): Conv1d(64, 128, kernel_size=(9,), stride=(1,), padding=(4,))\n",
       "      (1): Conv1d(64, 128, kernel_size=(9,), stride=(1,), padding=(4,))\n",
       "      (2): Conv1d(64, 128, kernel_size=(9,), stride=(1,), padding=(4,))\n",
       "      (3): Conv1d(64, 128, kernel_size=(9,), stride=(1,), padding=(4,))\n",
       "    )\n",
       "    (dropout): Dropout(p=0.1, inplace=False)\n",
       "    (fc): Linear(in_features=100, out_features=64, bias=True)\n",
       "    (gn): GroupNorm(8, 128, eps=1e-05, affine=True)\n",
       "    (ln): LayerNorm((64,), eps=1e-05, elementwise_affine=True)\n",
       "  )\n",
       "  (decoder): Decoder(\n",
       "    (ln): LayerNorm((64,), eps=1e-05, elementwise_affine=True)\n",
       "    (sa): SelfAttention(\n",
       "      (w_q): Linear(in_features=64, out_features=64, bias=True)\n",
       "      (w_k): Linear(in_features=64, out_features=64, bias=True)\n",
       "      (w_v): Linear(in_features=64, out_features=64, bias=True)\n",
       "      (fc): Linear(in_features=64, out_features=64, bias=True)\n",
       "      (do): Dropout(p=0.1, inplace=False)\n",
       "    )\n",
       "    (layers): ModuleList(\n",
       "      (0): DecoderLayer(\n",
       "        (ln): LayerNorm((64,), eps=1e-05, elementwise_affine=True)\n",
       "        (sa): SelfAttention(\n",
       "          (w_q): Linear(in_features=64, out_features=64, bias=True)\n",
       "          (w_k): Linear(in_features=64, out_features=64, bias=True)\n",
       "          (w_v): Linear(in_features=64, out_features=64, bias=True)\n",
       "          (fc): Linear(in_features=64, out_features=64, bias=True)\n",
       "          (do): Dropout(p=0.1, inplace=False)\n",
       "        )\n",
       "        (ea): SelfAttention(\n",
       "          (w_q): Linear(in_features=64, out_features=64, bias=True)\n",
       "          (w_k): Linear(in_features=64, out_features=64, bias=True)\n",
       "          (w_v): Linear(in_features=64, out_features=64, bias=True)\n",
       "          (fc): Linear(in_features=64, out_features=64, bias=True)\n",
       "          (do): Dropout(p=0.1, inplace=False)\n",
       "        )\n",
       "        (pf): PositionwiseFeedforward(\n",
       "          (fc_1): Conv1d(64, 256, kernel_size=(1,), stride=(1,))\n",
       "          (fc_2): Conv1d(256, 64, kernel_size=(1,), stride=(1,))\n",
       "          (do): Dropout(p=0.1, inplace=False)\n",
       "        )\n",
       "        (do): Dropout(p=0.1, inplace=False)\n",
       "      )\n",
       "      (1): DecoderLayer(\n",
       "        (ln): LayerNorm((64,), eps=1e-05, elementwise_affine=True)\n",
       "        (sa): SelfAttention(\n",
       "          (w_q): Linear(in_features=64, out_features=64, bias=True)\n",
       "          (w_k): Linear(in_features=64, out_features=64, bias=True)\n",
       "          (w_v): Linear(in_features=64, out_features=64, bias=True)\n",
       "          (fc): Linear(in_features=64, out_features=64, bias=True)\n",
       "          (do): Dropout(p=0.1, inplace=False)\n",
       "        )\n",
       "        (ea): SelfAttention(\n",
       "          (w_q): Linear(in_features=64, out_features=64, bias=True)\n",
       "          (w_k): Linear(in_features=64, out_features=64, bias=True)\n",
       "          (w_v): Linear(in_features=64, out_features=64, bias=True)\n",
       "          (fc): Linear(in_features=64, out_features=64, bias=True)\n",
       "          (do): Dropout(p=0.1, inplace=False)\n",
       "        )\n",
       "        (pf): PositionwiseFeedforward(\n",
       "          (fc_1): Conv1d(64, 256, kernel_size=(1,), stride=(1,))\n",
       "          (fc_2): Conv1d(256, 64, kernel_size=(1,), stride=(1,))\n",
       "          (do): Dropout(p=0.1, inplace=False)\n",
       "        )\n",
       "        (do): Dropout(p=0.1, inplace=False)\n",
       "      )\n",
       "      (2): DecoderLayer(\n",
       "        (ln): LayerNorm((64,), eps=1e-05, elementwise_affine=True)\n",
       "        (sa): SelfAttention(\n",
       "          (w_q): Linear(in_features=64, out_features=64, bias=True)\n",
       "          (w_k): Linear(in_features=64, out_features=64, bias=True)\n",
       "          (w_v): Linear(in_features=64, out_features=64, bias=True)\n",
       "          (fc): Linear(in_features=64, out_features=64, bias=True)\n",
       "          (do): Dropout(p=0.1, inplace=False)\n",
       "        )\n",
       "        (ea): SelfAttention(\n",
       "          (w_q): Linear(in_features=64, out_features=64, bias=True)\n",
       "          (w_k): Linear(in_features=64, out_features=64, bias=True)\n",
       "          (w_v): Linear(in_features=64, out_features=64, bias=True)\n",
       "          (fc): Linear(in_features=64, out_features=64, bias=True)\n",
       "          (do): Dropout(p=0.1, inplace=False)\n",
       "        )\n",
       "        (pf): PositionwiseFeedforward(\n",
       "          (fc_1): Conv1d(64, 256, kernel_size=(1,), stride=(1,))\n",
       "          (fc_2): Conv1d(256, 64, kernel_size=(1,), stride=(1,))\n",
       "          (do): Dropout(p=0.1, inplace=False)\n",
       "        )\n",
       "        (do): Dropout(p=0.1, inplace=False)\n",
       "      )\n",
       "      (3): DecoderLayer(\n",
       "        (ln): LayerNorm((64,), eps=1e-05, elementwise_affine=True)\n",
       "        (sa): SelfAttention(\n",
       "          (w_q): Linear(in_features=64, out_features=64, bias=True)\n",
       "          (w_k): Linear(in_features=64, out_features=64, bias=True)\n",
       "          (w_v): Linear(in_features=64, out_features=64, bias=True)\n",
       "          (fc): Linear(in_features=64, out_features=64, bias=True)\n",
       "          (do): Dropout(p=0.1, inplace=False)\n",
       "        )\n",
       "        (ea): SelfAttention(\n",
       "          (w_q): Linear(in_features=64, out_features=64, bias=True)\n",
       "          (w_k): Linear(in_features=64, out_features=64, bias=True)\n",
       "          (w_v): Linear(in_features=64, out_features=64, bias=True)\n",
       "          (fc): Linear(in_features=64, out_features=64, bias=True)\n",
       "          (do): Dropout(p=0.1, inplace=False)\n",
       "        )\n",
       "        (pf): PositionwiseFeedforward(\n",
       "          (fc_1): Conv1d(64, 256, kernel_size=(1,), stride=(1,))\n",
       "          (fc_2): Conv1d(256, 64, kernel_size=(1,), stride=(1,))\n",
       "          (do): Dropout(p=0.1, inplace=False)\n",
       "        )\n",
       "        (do): Dropout(p=0.1, inplace=False)\n",
       "      )\n",
       "    )\n",
       "    (ft): Linear(in_features=34, out_features=64, bias=True)\n",
       "    (do): Dropout(p=0.1, inplace=False)\n",
       "    (fc_1): Linear(in_features=64, out_features=256, bias=True)\n",
       "    (fc_2): Linear(in_features=256, out_features=2, bias=True)\n",
       "    (do_1): Dropout(p=0.2, inplace=False)\n",
       "  )\n",
       ")"
      ]
     },
     "execution_count": 15,
     "metadata": {},
     "output_type": "execute_result"
    }
   ],
   "source": [
    "from model_c2_protein import *\n",
    "\n",
    "\"\"\" create model ,trainer and tester \"\"\"\n",
    "protein_dim = 100\n",
    "atom_dim = 34\n",
    "hid_dim = 64\n",
    "n_layers = 4\n",
    "n_heads = 8\n",
    "pf_dim = 256\n",
    "dropout = 0.1\n",
    "batch = 64\n",
    "lr = 1e-4\n",
    "weight_decay = 1e-4\n",
    "decay_interval = 5\n",
    "lr_decay = 1.0\n",
    "iteration = 100\n",
    "kernel_size = 9\n",
    "\n",
    "encoder = Encoder(protein_dim, hid_dim, n_layers, kernel_size, dropout, device)\n",
    "decoder = Decoder(atom_dim, hid_dim, n_layers, n_heads, pf_dim, DecoderLayer, SelfAttention, PositionwiseFeedforward, dropout, device)\n",
    "model = Predictor(encoder, decoder, device)\n",
    "model.load_state_dict(torch.load(\"lr=1e-4,dropout=0.1,weight_decay=1e-4,kernel=9,n_layer=4,batch=64,lookaheadradam,2\",map_location = lambda storage,loc:storage))\n",
    "model"
   ]
  },
  {
   "cell_type": "code",
   "execution_count": 33,
   "metadata": {},
   "outputs": [
    {
     "data": {
      "text/plain": [
       "(array([0.87645805], dtype=float32),\n",
       " tensor([[[[1.1979e-03, 1.7476e-03, 6.5823e-04,  ..., 2.6190e-03,\n",
       "            1.5309e-02, 3.0451e-03],\n",
       "           [1.1979e-03, 1.7476e-03, 6.5823e-04,  ..., 2.6190e-03,\n",
       "            1.5309e-02, 3.0451e-03],\n",
       "           [1.1357e-03, 1.7746e-03, 6.1854e-04,  ..., 2.6887e-03,\n",
       "            1.6399e-02, 3.0504e-03],\n",
       "           ...,\n",
       "           [9.3283e-04, 1.4592e-03, 5.5230e-04,  ..., 2.7380e-03,\n",
       "            1.8181e-02, 3.9466e-03],\n",
       "           [9.3283e-04, 1.4592e-03, 5.5230e-04,  ..., 2.7380e-03,\n",
       "            1.8181e-02, 3.9466e-03],\n",
       "           [9.3283e-04, 1.4592e-03, 5.5230e-04,  ..., 2.7380e-03,\n",
       "            1.8181e-02, 3.9466e-03]],\n",
       " \n",
       "          [[1.8071e-03, 9.5505e-05, 8.1233e-03,  ..., 1.2733e-05,\n",
       "            9.7492e-04, 9.7067e-05],\n",
       "           [1.8071e-03, 9.5505e-05, 8.1233e-03,  ..., 1.2733e-05,\n",
       "            9.7492e-04, 9.7067e-05],\n",
       "           [1.8297e-03, 9.6753e-05, 8.2493e-03,  ..., 1.4054e-05,\n",
       "            9.5728e-04, 1.1073e-04],\n",
       "           ...,\n",
       "           [1.3016e-03, 6.1404e-05, 1.0591e-02,  ..., 7.8225e-06,\n",
       "            1.0271e-03, 5.5321e-05],\n",
       "           [1.3016e-03, 6.1404e-05, 1.0591e-02,  ..., 7.8225e-06,\n",
       "            1.0271e-03, 5.5321e-05],\n",
       "           [1.3016e-03, 6.1404e-05, 1.0591e-02,  ..., 7.8225e-06,\n",
       "            1.0271e-03, 5.5321e-05]],\n",
       " \n",
       "          [[1.0517e-03, 1.3744e-03, 1.0592e-03,  ..., 5.6940e-04,\n",
       "            1.2789e-03, 5.5069e-03],\n",
       "           [1.0517e-03, 1.3744e-03, 1.0592e-03,  ..., 5.6940e-04,\n",
       "            1.2789e-03, 5.5069e-03],\n",
       "           [1.1033e-03, 1.3710e-03, 1.0407e-03,  ..., 5.4278e-04,\n",
       "            1.2949e-03, 5.3775e-03],\n",
       "           ...,\n",
       "           [1.0938e-03, 1.5132e-03, 1.0015e-03,  ..., 3.4858e-04,\n",
       "            1.3440e-03, 5.9290e-03],\n",
       "           [1.0938e-03, 1.5132e-03, 1.0015e-03,  ..., 3.4858e-04,\n",
       "            1.3440e-03, 5.9290e-03],\n",
       "           [1.0938e-03, 1.5132e-03, 1.0015e-03,  ..., 3.4858e-04,\n",
       "            1.3440e-03, 5.9290e-03]],\n",
       " \n",
       "          ...,\n",
       " \n",
       "          [[1.2480e-03, 7.2368e-04, 5.1918e-03,  ..., 2.0291e-04,\n",
       "            6.5886e-04, 4.6610e-05],\n",
       "           [1.2480e-03, 7.2368e-04, 5.1918e-03,  ..., 2.0291e-04,\n",
       "            6.5886e-04, 4.6610e-05],\n",
       "           [1.2300e-03, 7.6145e-04, 4.9088e-03,  ..., 2.1174e-04,\n",
       "            6.7496e-04, 4.5958e-05],\n",
       "           ...,\n",
       "           [1.2961e-03, 7.6022e-04, 4.8867e-03,  ..., 2.1812e-04,\n",
       "            6.1749e-04, 3.9136e-05],\n",
       "           [1.2961e-03, 7.6022e-04, 4.8867e-03,  ..., 2.1812e-04,\n",
       "            6.1749e-04, 3.9136e-05],\n",
       "           [1.2961e-03, 7.6022e-04, 4.8867e-03,  ..., 2.1812e-04,\n",
       "            6.1749e-04, 3.9136e-05]],\n",
       " \n",
       "          [[7.3342e-04, 2.5566e-03, 4.4654e-03,  ..., 6.3948e-04,\n",
       "            1.8199e-03, 7.9155e-03],\n",
       "           [7.3342e-04, 2.5566e-03, 4.4654e-03,  ..., 6.3948e-04,\n",
       "            1.8199e-03, 7.9155e-03],\n",
       "           [8.0635e-04, 2.4058e-03, 4.7908e-03,  ..., 6.5185e-04,\n",
       "            1.7214e-03, 7.5155e-03],\n",
       "           ...,\n",
       "           [1.0452e-03, 1.7098e-03, 6.1575e-03,  ..., 8.1241e-04,\n",
       "            1.4364e-03, 6.6458e-03],\n",
       "           [1.0452e-03, 1.7098e-03, 6.1575e-03,  ..., 8.1241e-04,\n",
       "            1.4364e-03, 6.6458e-03],\n",
       "           [1.0452e-03, 1.7098e-03, 6.1575e-03,  ..., 8.1241e-04,\n",
       "            1.4364e-03, 6.6458e-03]],\n",
       " \n",
       "          [[1.7869e-03, 1.1578e-04, 1.2272e-04,  ..., 3.7263e-04,\n",
       "            3.3902e-04, 6.7289e-05],\n",
       "           [1.7869e-03, 1.1578e-04, 1.2272e-04,  ..., 3.7263e-04,\n",
       "            3.3902e-04, 6.7289e-05],\n",
       "           [1.5734e-03, 1.1584e-04, 1.2291e-04,  ..., 3.7058e-04,\n",
       "            3.3558e-04, 6.7520e-05],\n",
       "           ...,\n",
       "           [1.6343e-03, 1.2748e-04, 1.5847e-04,  ..., 4.2123e-04,\n",
       "            3.1745e-04, 7.5808e-05],\n",
       "           [1.6343e-03, 1.2748e-04, 1.5847e-04,  ..., 4.2123e-04,\n",
       "            3.1745e-04, 7.5808e-05],\n",
       "           [1.6343e-03, 1.2748e-04, 1.5847e-04,  ..., 4.2123e-04,\n",
       "            3.1745e-04, 7.5808e-05]]]]))"
      ]
     },
     "execution_count": 33,
     "metadata": {},
     "output_type": "execute_result"
    }
   ],
   "source": [
    "with torch.no_grad():\n",
    "    model.eval()\n",
    "    predicted_scores,attention = model(dataset, train=False)\n",
    "predicted_scores,attention"
   ]
  },
  {
   "cell_type": "code",
   "execution_count": 34,
   "metadata": {},
   "outputs": [
    {
     "data": {
      "text/plain": [
       "torch.Size([1, 8, 25, 425])"
      ]
     },
     "execution_count": 34,
     "metadata": {},
     "output_type": "execute_result"
    }
   ],
   "source": [
    "attention.shape"
   ]
  },
  {
   "cell_type": "code",
   "execution_count": 35,
   "metadata": {},
   "outputs": [
    {
     "data": {
      "text/plain": [
       "array([[0.01493002, 0.00933837, 0.02607854, ..., 0.00541077, 0.02423104,\n",
       "        0.01820267],\n",
       "       [0.01493002, 0.00933837, 0.02607854, ..., 0.00541077, 0.02423104,\n",
       "        0.01820267],\n",
       "       [0.01458601, 0.00926499, 0.02613137, ..., 0.00548346, 0.02534992,\n",
       "        0.01774161],\n",
       "       ...,\n",
       "       [0.01352427, 0.00878863, 0.02738293, ..., 0.00571844, 0.02713521,\n",
       "        0.01851632],\n",
       "       [0.01352427, 0.00878863, 0.02738293, ..., 0.00571844, 0.02713521,\n",
       "        0.01851632],\n",
       "       [0.01352426, 0.00878863, 0.02738293, ..., 0.00571844, 0.02713521,\n",
       "        0.01851632]], dtype=float32)"
      ]
     },
     "execution_count": 35,
     "metadata": {},
     "output_type": "execute_result"
    }
   ],
   "source": [
    "attention = attention.squeeze(0)\n",
    "\n",
    "# attention = attention.numpy()\n",
    "# # list = [11,16,1,21,4,17,9,22,12]\n",
    "# sum = np.zeros(attention.shape[1])\n",
    "# for i in list:\n",
    "#     k = attention[i,:]\n",
    "#     sum += k\n",
    "\n",
    "sum = torch.sum(attention,dim=0)\n",
    "sum = sum.numpy()\n",
    "sum"
   ]
  },
  {
   "cell_type": "code",
   "execution_count": 40,
   "metadata": {},
   "outputs": [
    {
     "data": {
      "text/plain": [
       "(425,)"
      ]
     },
     "execution_count": 40,
     "metadata": {},
     "output_type": "execute_result"
    }
   ],
   "source": [
    "sum = np.sum(sum,0)\n",
    "sum.shape"
   ]
  },
  {
   "cell_type": "code",
   "execution_count": 41,
   "metadata": {},
   "outputs": [
    {
     "data": {
      "text/plain": [
       "array([0.35659012, 0.22110486, 0.6755632 , 0.20698023, 0.57944775,\n",
       "       0.36527482, 0.14011627, 0.07320638, 0.59903175, 0.24134976,\n",
       "       0.5631027 , 0.19514611, 0.28513914, 0.27401498, 0.5659255 ,\n",
       "       0.2110916 , 0.37827536, 0.87671125, 0.17527753, 1.1612573 ,\n",
       "       0.20086887, 0.44304007, 0.22248152, 0.2798514 , 0.62259424,\n",
       "       0.35498646, 0.36688292, 0.6662818 , 0.45318633, 0.17901203,\n",
       "       0.42448157, 0.18258658, 0.44494358, 0.38328946, 0.42309314,\n",
       "       0.34661895, 0.6304838 , 0.5721212 , 0.28123122, 0.32441673,\n",
       "       0.20327508, 0.42422366, 0.27652457, 1.0236802 , 0.5840236 ,\n",
       "       0.14437503, 0.41046658, 0.43499845, 0.16767395, 0.22267812,\n",
       "       0.58217347, 0.39069942, 0.24707559, 0.30052635, 0.22393672,\n",
       "       0.39280194, 1.030517  , 0.21532841, 0.26381472, 0.4671945 ,\n",
       "       0.14531422, 0.6175298 , 0.21127498, 0.6614977 , 0.8678934 ,\n",
       "       0.22098257, 0.47614136, 0.57754844, 0.5472906 , 0.45240977,\n",
       "       0.35651964, 0.47327766, 0.6013944 , 0.33102077, 0.21683544,\n",
       "       0.32739645, 0.43328366, 0.32005414, 0.18699504, 0.30346707,\n",
       "       0.31919613, 0.21437173, 0.34587276, 0.24928887, 0.22496288,\n",
       "       0.4128597 , 0.20227656, 0.25412464, 0.26804888, 0.29078   ,\n",
       "       0.29970586, 0.31772912, 0.17771551, 0.24736968, 0.4125918 ,\n",
       "       0.13266523, 0.5891285 , 0.5945847 , 0.47195512, 0.22029187,\n",
       "       0.23733285, 0.428056  , 0.3088697 , 0.53345394, 0.22570863,\n",
       "       0.81344616, 0.29522982, 0.6451849 , 0.32998925, 0.49726048,\n",
       "       0.3923328 , 0.14111263, 0.20499752, 0.25321323, 0.37805995,\n",
       "       0.5539785 , 0.368963  , 0.32441825, 0.34107012, 0.5749107 ,\n",
       "       0.22643304, 0.32545486, 0.5222124 , 0.2616926 , 0.29340672,\n",
       "       0.320706  , 0.94830966, 0.59793085, 1.7141877 , 0.24514754,\n",
       "       0.22059233, 0.4579253 , 0.4153074 , 0.82612014, 0.12977348,\n",
       "       0.75709844, 0.5607031 , 0.2294169 , 0.34048268, 0.2645167 ,\n",
       "       0.2817083 , 0.5165148 , 0.4882926 , 0.3258003 , 0.93217254,\n",
       "       0.33792508, 0.28327826, 0.15774588, 1.5821084 , 0.33129036,\n",
       "       0.22590922, 0.9716301 , 0.868809  , 0.43154112, 0.09816027,\n",
       "       2.3627636 , 0.24434172, 0.6362298 , 0.12053485, 0.32986405,\n",
       "       0.29264006, 0.32460904, 0.20980798, 0.6655794 , 0.31953502,\n",
       "       0.1652887 , 1.2453476 , 0.37464064, 0.14311358, 0.8846698 ,\n",
       "       0.47668213, 0.70757014, 0.19168425, 0.23966576, 1.0342083 ,\n",
       "       0.5283091 , 0.36244074, 0.3310454 , 0.5841173 , 0.22017851,\n",
       "       0.5723377 , 0.25920066, 0.33269894, 0.28935742, 0.4067917 ,\n",
       "       0.19004232, 0.5100702 , 0.6499715 , 0.6140474 , 0.16851339,\n",
       "       1.0664253 , 0.305648  , 0.34264234, 0.5504539 , 0.30688113,\n",
       "       0.33040512, 0.3498142 , 0.5286776 , 0.15113854, 1.915823  ,\n",
       "       0.35884133, 0.43659282, 0.40692666, 0.15750162, 0.5629008 ,\n",
       "       0.24424154, 0.1762268 , 0.86623067, 0.26021263, 0.19392599,\n",
       "       0.38224873, 0.9384102 , 0.27436936, 0.34130606, 0.2666857 ,\n",
       "       0.3449841 , 1.3674313 , 0.6479578 , 0.2894756 , 0.22894791,\n",
       "       0.45518395, 0.29798335, 0.29295287, 1.89703   , 0.16711433,\n",
       "       0.5099662 , 0.5358243 , 0.18201852, 0.718666  , 0.44409648,\n",
       "       0.38084993, 0.4477406 , 0.47233662, 0.26679453, 0.39093134,\n",
       "       0.5602277 , 1.2626103 , 0.08350871, 1.2382585 , 0.34330982,\n",
       "       0.42772478, 0.39000493, 0.10730805, 0.47777528, 0.23245454,\n",
       "       0.37701464, 0.4548271 , 0.24352741, 0.60741365, 0.48390135,\n",
       "       0.17476533, 0.05324233, 0.6152698 , 0.40615505, 0.27829742,\n",
       "       0.27484468, 0.31714576, 1.4422332 , 0.347827  , 0.3382791 ,\n",
       "       0.49268502, 0.57779866, 0.93184894, 0.47476572, 0.14627829,\n",
       "       0.20426908, 0.5193733 , 0.68386495, 0.3675671 , 0.46413022,\n",
       "       1.172952  , 0.53069484, 0.2653277 , 0.6858724 , 1.1194952 ,\n",
       "       0.28878358, 0.25637153, 0.19945508, 0.42277637, 0.13878922,\n",
       "       0.32481194, 0.47838774, 0.35326844, 0.1739216 , 0.37260428,\n",
       "       0.36457914, 0.42747304, 0.3734021 , 0.19494204, 0.4431151 ,\n",
       "       0.29004592, 0.24368826, 0.49753696, 0.45189494, 0.16798273,\n",
       "       0.6477095 , 0.21209311, 0.72962713, 0.32560903, 0.58017963,\n",
       "       0.42068875, 0.26527396, 0.6583499 , 0.16670439, 0.26523626,\n",
       "       0.521346  , 0.25811374, 0.23232968, 0.48650542, 0.3690032 ,\n",
       "       0.72595567, 0.3799964 , 0.3550635 , 0.31376576, 0.955881  ,\n",
       "       0.76217544, 0.33618298, 0.68521994, 0.21181229, 0.38263002,\n",
       "       0.2083048 , 0.7563287 , 0.2922742 , 0.3937428 , 0.43497232,\n",
       "       0.48375043, 0.536434  , 0.25380346, 0.8756287 , 0.4487818 ,\n",
       "       0.30660182, 0.5197008 , 0.56591374, 1.3969171 , 0.14137782,\n",
       "       2.0498486 , 0.33333924, 0.6561755 , 0.3765345 , 1.1382579 ,\n",
       "       0.268525  , 0.36815333, 0.38143915, 0.33073196, 0.35414556,\n",
       "       0.5000224 , 1.0970626 , 0.23027161, 0.23766556, 0.17334281,\n",
       "       0.8039215 , 0.33160794, 4.610363  , 0.22878192, 2.2057989 ,\n",
       "       0.34093   , 0.6057553 , 0.9406263 , 0.45406428, 2.2346084 ,\n",
       "       0.5949192 , 0.47748405, 1.5372095 , 0.3328441 , 0.34780186,\n",
       "       0.2546748 , 0.45758554, 0.21087684, 0.21530735, 0.3784148 ,\n",
       "       0.27964628, 0.49333313, 0.62881505, 1.022898  , 0.22058493,\n",
       "       0.3530557 , 0.387137  , 0.2392385 , 0.25762355, 0.3001913 ,\n",
       "       0.4550737 , 0.12824091, 0.30382094, 0.3260338 , 0.24968925,\n",
       "       0.26007703, 2.3654883 , 0.35161737, 0.33819133, 0.30109504,\n",
       "       0.17667323, 0.3036031 , 0.52036345, 0.26029986, 0.16638857,\n",
       "       0.45489493, 0.8671221 , 0.21365044, 1.222625  , 0.42435843,\n",
       "       0.45254713, 0.14423116, 0.16120169, 0.5266371 , 0.3471675 ,\n",
       "       0.72336257, 0.36482778, 0.5409695 , 0.28360105, 0.3881185 ,\n",
       "       0.26349673, 1.4433637 , 0.7460506 , 0.12593272, 0.33163568,\n",
       "       0.8938572 , 0.37218815, 0.5681864 , 0.46718207, 0.48027533,\n",
       "       0.42687002, 0.36768323, 0.13796805, 0.65871155, 0.44704655],\n",
       "      dtype=float32)"
      ]
     },
     "execution_count": 41,
     "metadata": {},
     "output_type": "execute_result"
    }
   ],
   "source": [
    "sum"
   ]
  },
  {
   "cell_type": "code",
   "execution_count": 42,
   "metadata": {},
   "outputs": [],
   "source": [
    "import matplotlib.pyplot as plt\n",
    "import seaborn as sns\n",
    "%matplotlib inline"
   ]
  },
  {
   "cell_type": "code",
   "execution_count": 46,
   "metadata": {},
   "outputs": [
    {
     "data": {
      "text/plain": [
       "0.47058824"
      ]
     },
     "execution_count": 46,
     "metadata": {},
     "output_type": "execute_result"
    }
   ],
   "source": [
    "sum.mean()"
   ]
  },
  {
   "cell_type": "code",
   "execution_count": 48,
   "metadata": {},
   "outputs": [
    {
     "data": {
      "text/plain": [
       "Text(0.5, 1.0, 'MAPK8 attention weight distribution')"
      ]
     },
     "execution_count": 48,
     "metadata": {},
     "output_type": "execute_result"
    },
    {
     "data": {
      "image/png": "[encoded data removed]",
      "text/plain": [
       "<Figure size 432x288 with 1 Axes>"
      ]
     },
     "metadata": {
      "needs_background": "light"
     },
     "output_type": "display_data"
    }
   ],
   "source": [
    "fig1 = plt.figure()\n",
    "x = np.linspace(0, 425)\n",
    "y = [0.471]*50\n",
    "plt.plot(sum)\n",
    "plt.xlabel(\"Amino Acid Number\")\n",
    "plt.ylabel(\"Attention weight\")\n",
    "plt.plot(x,y,\"r--\")\n",
    "plt.title(\"MAPK8 attention weight distribution\")"
   ]
  },
  {
   "cell_type": "code",
   "execution_count": 67,
   "metadata": {},
   "outputs": [],
   "source": [
    "fig1.savefig(\"MAPK8 attention weight distribution.png\",dpi=800)"
   ]
  }
 ],
 "metadata": {
  "kernelspec": {
   "display_name": "Python 3",
   "language": "python",
   "name": "python3"
  },
  "language_info": {
   "codemirror_mode": {
    "name": "ipython",
    "version": 3
   },
   "file_extension": ".py",
   "mimetype": "text/x-python",
   "name": "python",
   "nbconvert_exporter": "python",
   "pygments_lexer": "ipython3",
   "version": "3.7.3"
  }
 },
 "nbformat": 4,
 "nbformat_minor": 2
}
