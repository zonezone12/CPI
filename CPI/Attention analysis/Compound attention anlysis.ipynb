{
 "cells": [
  {
   "cell_type": "code",
   "execution_count": 1,
   "metadata": {},
   "outputs": [],
   "source": [
    "import numpy as np\n",
    "from rdkit import Chem\n",
    "from rdkit.Chem import Descriptors\n",
    "\n",
    "num_atom_feat = 34\n",
    "def one_of_k_encoding(x, allowable_set):\n",
    "    if x not in allowable_set:\n",
    "        raise Exception(\"input {0} not in allowable set{1}:\".format(\n",
    "            x, allowable_set))\n",
    "    return [x == s for s in allowable_set]\n",
    "\n",
    "\n",
    "def one_of_k_encoding_unk(x, allowable_set):\n",
    "    \"\"\"Maps inputs not in the allowable set to the last element.\"\"\"\n",
    "    if x not in allowable_set:\n",
    "        x = allowable_set[-1]\n",
    "    return [x == s for s in allowable_set]\n",
    "\n",
    "\n",
    "def atom_features(atom,explicit_H=False,use_chirality=True):\n",
    "    \"\"\"Generate atom features including atom symbol(10),degree(7),formal charge,\n",
    "    radical electrons,hybridization(6),aromatic(1),Chirality(3)\n",
    "    \"\"\"\n",
    "    symbol = ['C', 'N', 'O', 'F', 'P', 'S', 'Cl', 'Br', 'I', 'other']  # 10-dim\n",
    "    degree = [0, 1, 2, 3, 4, 5, 6]  # 7-dim\n",
    "    hybridizationType = [Chem.rdchem.HybridizationType.SP,\n",
    "                              Chem.rdchem.HybridizationType.SP2,\n",
    "                              Chem.rdchem.HybridizationType.SP3,\n",
    "                              Chem.rdchem.HybridizationType.SP3D,\n",
    "                              Chem.rdchem.HybridizationType.SP3D2,\n",
    "                              'other']   # 6-dim\n",
    "    results = one_of_k_encoding_unk(atom.GetSymbol(),symbol) + \\\n",
    "                  one_of_k_encoding(atom.GetDegree(),degree) + \\\n",
    "                  [atom.GetFormalCharge(), atom.GetNumRadicalElectrons()] + \\\n",
    "                  one_of_k_encoding_unk(atom.GetHybridization(), hybridizationType) + [atom.GetIsAromatic()]  # 10+7+2+6+1=26\n",
    "\n",
    "    # In case of explicit hydrogen(QM8, QM9), avoid calling `GetTotalNumHs`\n",
    "    if not explicit_H:\n",
    "        results = results + one_of_k_encoding_unk(atom.GetTotalNumHs(),\n",
    "                                                      [0, 1, 2, 3, 4])   # 26+5=31\n",
    "    if use_chirality:\n",
    "        try:\n",
    "            results = results + one_of_k_encoding_unk(\n",
    "                    atom.GetProp('_CIPCode'),\n",
    "                    ['R', 'S']) + [atom.HasProp('_ChiralityPossible')]\n",
    "        except:\n",
    "            results = results + [False, False] + [atom.HasProp('_ChiralityPossible')]  # 31+3 =34\n",
    "    return results\n",
    "\n",
    "\n",
    "def adjacent_matrix(mol):\n",
    "    adjacency = Chem.GetAdjacencyMatrix(mol)\n",
    "    return np.array(adjacency)\n",
    "\n",
    "\n",
    "def mol_features(smiles):\n",
    "    try:\n",
    "        mol = Chem.MolFromSmiles(smiles)\n",
    "    except:\n",
    "        raise RuntimeError(\"SMILES cannot been parsed!\")\n",
    "    mol = Chem.AddHs(mol)\n",
    "    atom_feat = np.zeros((mol.GetNumAtoms(), num_atom_feat))\n",
    "    for atom in mol.GetAtoms():\n",
    "        atom_feat[atom.GetIdx(), :] = atom_features(atom)\n",
    "    adj_matrix = adjacent_matrix(mol)\n",
    "    return atom_feat, adj_matrix\n",
    "\n",
    "def load_tensor(file_name, dtype):\n",
    "    return [dtype(d).to(device) for d in file_name]\n"
   ]
  },
  {
   "cell_type": "code",
   "execution_count": 2,
   "metadata": {},
   "outputs": [
    {
     "name": "stderr",
     "output_type": "stream",
     "text": [
      "F:\\anaconda\\lib\\site-packages\\gensim\\utils.py:1197: UserWarning: detected Windows; aliasing chunkize to chunkize_serial\n",
      "  warnings.warn(\"detected Windows; aliasing chunkize to chunkize_serial\")\n"
     ]
    },
    {
     "name": "stdout",
     "output_type": "stream",
     "text": [
      "The code uses CPU!!!\n"
     ]
    },
    {
     "name": "stderr",
     "output_type": "stream",
     "text": [
      "F:\\anaconda\\lib\\site-packages\\smart_open\\smart_open_lib.py:398: UserWarning: This function is deprecated, use smart_open.open instead. See the migration notes for details: https://github.com/RaRe-Technologies/smart_open/blob/master/README.rst#migrating-to-the-new-open-function\n",
      "  'See the migration notes for details: %s' % _MIGRATION_NOTES_URL\n"
     ]
    }
   ],
   "source": [
    "from word2vec import seq_to_kmers, get_protein_embedding\n",
    "from gensim.models import Word2Vec\n",
    "import torch\n",
    "import os\n",
    "\n",
    "\"\"\"CPU or GPU\"\"\"\n",
    "if torch.cuda.is_available():\n",
    "    device = torch.device('cuda:0')\n",
    "    print('The code uses GPU...')\n",
    "else:\n",
    "    device = torch.device('cpu')\n",
    "    print('The code uses CPU!!!')\n",
    "\n",
    "compounds, adjacencies,proteins,interactions = [], [], [], []\n",
    "compound = \"CN(C)CCCC1(c2ccc(F)cc2)OCc2cc(C#N)ccc21\"\n",
    "atom_feature ,adj = mol_features(compound)\n",
    "compounds.append(atom_feature)\n",
    "adjacencies.append(adj)\n",
    "adjacencies = np.array(adjacencies)\n",
    "model = Word2Vec.load(\"word2vec_30.model\")\n",
    "sequence = \"MSLPNSSCLLEDKMCEGNKTTMASPQLMPLVVVLSTICLVTVGLNLLVLYAVRSERKLHTVGNLYIVSLSVADLIVGAVVMPMNILYLLMSKWSLGRPLCLFWLSMDYVASTASIFSVFILCIDRYRSVQQPLRYLKYRTKTRASATILGAWFLSFLWVIPILGWNHFMQQTSVRREDKCETDFYDVTWFKVMTAIINFYLPTLLMLWFYAKIYKAVRQHCQHRELINRSLPSFSEIKLRPENPKGDAKKPGKESPWEVLKRKPKDAGGGSVLKSPSQTPKEMKSPVVFSQEDDREVDKLYCFPLDIVHMQAAAEGSSRDYVAVNRSHGQLKTDEQGLNTHGASEISEDQMLGDSQSFSRTDSDTTTETAPGKGKLRSGSNTGLDYIKFTWKRLRSHSRQYVSGLHMNRERKAAKQLGFIMAAFILCWIPYFIFFMVIAFCKNCCNEHLHMFTIWLGYINSTLNPLIYPLCNENFKKTFKRILHIRS\"\n",
    "protein_embedding = get_protein_embedding(model, seq_to_kmers(sequence))\n",
    "proteins.append(protein_embedding)\n",
    "interactions.append(np.array([0]))\n",
    "\n",
    "compounds = load_tensor(compounds, torch.FloatTensor)\n",
    "adjacencies = load_tensor(adjacencies.astype(np.float32), torch.FloatTensor)\n",
    "proteins = load_tensor(proteins, torch.FloatTensor)\n",
    "interactions = load_tensor(interactions, torch.LongTensor)\n",
    "\n",
    "dataset = list(zip(compounds, adjacencies, proteins, interactions))"
   ]
  },
  {
   "cell_type": "code",
   "execution_count": 3,
   "metadata": {},
   "outputs": [
    {
     "data": {
      "text/plain": [
       "Predictor(\n",
       "  (encoder): Encoder(\n",
       "    (convs): ModuleList(\n",
       "      (0): Conv1d(64, 128, kernel_size=(7,), stride=(1,), padding=(3,))\n",
       "      (1): Conv1d(64, 128, kernel_size=(7,), stride=(1,), padding=(3,))\n",
       "      (2): Conv1d(64, 128, kernel_size=(7,), stride=(1,), padding=(3,))\n",
       "      (3): Conv1d(64, 128, kernel_size=(7,), stride=(1,), padding=(3,))\n",
       "    )\n",
       "    (dropout): Dropout(p=0.1)\n",
       "    (fc): Linear(in_features=100, out_features=64, bias=True)\n",
       "  )\n",
       "  (decoder): Decoder(\n",
       "    (ln): LayerNorm(torch.Size([64]), eps=1e-05, elementwise_affine=True)\n",
       "    (sa): SelfAttention(\n",
       "      (w_q): Linear(in_features=64, out_features=64, bias=True)\n",
       "      (w_k): Linear(in_features=64, out_features=64, bias=True)\n",
       "      (w_v): Linear(in_features=64, out_features=64, bias=True)\n",
       "      (fc): Linear(in_features=64, out_features=64, bias=True)\n",
       "      (do): Dropout(p=0.1)\n",
       "    )\n",
       "    (layers): ModuleList(\n",
       "      (0): DecoderLayer(\n",
       "        (ln): LayerNorm(torch.Size([64]), eps=1e-05, elementwise_affine=True)\n",
       "        (sa): SelfAttention(\n",
       "          (w_q): Linear(in_features=64, out_features=64, bias=True)\n",
       "          (w_k): Linear(in_features=64, out_features=64, bias=True)\n",
       "          (w_v): Linear(in_features=64, out_features=64, bias=True)\n",
       "          (fc): Linear(in_features=64, out_features=64, bias=True)\n",
       "          (do): Dropout(p=0.1)\n",
       "        )\n",
       "        (ea): SelfAttention(\n",
       "          (w_q): Linear(in_features=64, out_features=64, bias=True)\n",
       "          (w_k): Linear(in_features=64, out_features=64, bias=True)\n",
       "          (w_v): Linear(in_features=64, out_features=64, bias=True)\n",
       "          (fc): Linear(in_features=64, out_features=64, bias=True)\n",
       "          (do): Dropout(p=0.1)\n",
       "        )\n",
       "        (pf): PositionwiseFeedforward(\n",
       "          (fc_1): Conv1d(64, 256, kernel_size=(1,), stride=(1,))\n",
       "          (fc_2): Conv1d(256, 64, kernel_size=(1,), stride=(1,))\n",
       "          (do): Dropout(p=0.1)\n",
       "        )\n",
       "        (do): Dropout(p=0.1)\n",
       "      )\n",
       "      (1): DecoderLayer(\n",
       "        (ln): LayerNorm(torch.Size([64]), eps=1e-05, elementwise_affine=True)\n",
       "        (sa): SelfAttention(\n",
       "          (w_q): Linear(in_features=64, out_features=64, bias=True)\n",
       "          (w_k): Linear(in_features=64, out_features=64, bias=True)\n",
       "          (w_v): Linear(in_features=64, out_features=64, bias=True)\n",
       "          (fc): Linear(in_features=64, out_features=64, bias=True)\n",
       "          (do): Dropout(p=0.1)\n",
       "        )\n",
       "        (ea): SelfAttention(\n",
       "          (w_q): Linear(in_features=64, out_features=64, bias=True)\n",
       "          (w_k): Linear(in_features=64, out_features=64, bias=True)\n",
       "          (w_v): Linear(in_features=64, out_features=64, bias=True)\n",
       "          (fc): Linear(in_features=64, out_features=64, bias=True)\n",
       "          (do): Dropout(p=0.1)\n",
       "        )\n",
       "        (pf): PositionwiseFeedforward(\n",
       "          (fc_1): Conv1d(64, 256, kernel_size=(1,), stride=(1,))\n",
       "          (fc_2): Conv1d(256, 64, kernel_size=(1,), stride=(1,))\n",
       "          (do): Dropout(p=0.1)\n",
       "        )\n",
       "        (do): Dropout(p=0.1)\n",
       "      )\n",
       "      (2): DecoderLayer(\n",
       "        (ln): LayerNorm(torch.Size([64]), eps=1e-05, elementwise_affine=True)\n",
       "        (sa): SelfAttention(\n",
       "          (w_q): Linear(in_features=64, out_features=64, bias=True)\n",
       "          (w_k): Linear(in_features=64, out_features=64, bias=True)\n",
       "          (w_v): Linear(in_features=64, out_features=64, bias=True)\n",
       "          (fc): Linear(in_features=64, out_features=64, bias=True)\n",
       "          (do): Dropout(p=0.1)\n",
       "        )\n",
       "        (ea): SelfAttention(\n",
       "          (w_q): Linear(in_features=64, out_features=64, bias=True)\n",
       "          (w_k): Linear(in_features=64, out_features=64, bias=True)\n",
       "          (w_v): Linear(in_features=64, out_features=64, bias=True)\n",
       "          (fc): Linear(in_features=64, out_features=64, bias=True)\n",
       "          (do): Dropout(p=0.1)\n",
       "        )\n",
       "        (pf): PositionwiseFeedforward(\n",
       "          (fc_1): Conv1d(64, 256, kernel_size=(1,), stride=(1,))\n",
       "          (fc_2): Conv1d(256, 64, kernel_size=(1,), stride=(1,))\n",
       "          (do): Dropout(p=0.1)\n",
       "        )\n",
       "        (do): Dropout(p=0.1)\n",
       "      )\n",
       "      (3): DecoderLayer(\n",
       "        (ln): LayerNorm(torch.Size([64]), eps=1e-05, elementwise_affine=True)\n",
       "        (sa): SelfAttention(\n",
       "          (w_q): Linear(in_features=64, out_features=64, bias=True)\n",
       "          (w_k): Linear(in_features=64, out_features=64, bias=True)\n",
       "          (w_v): Linear(in_features=64, out_features=64, bias=True)\n",
       "          (fc): Linear(in_features=64, out_features=64, bias=True)\n",
       "          (do): Dropout(p=0.1)\n",
       "        )\n",
       "        (ea): SelfAttention(\n",
       "          (w_q): Linear(in_features=64, out_features=64, bias=True)\n",
       "          (w_k): Linear(in_features=64, out_features=64, bias=True)\n",
       "          (w_v): Linear(in_features=64, out_features=64, bias=True)\n",
       "          (fc): Linear(in_features=64, out_features=64, bias=True)\n",
       "          (do): Dropout(p=0.1)\n",
       "        )\n",
       "        (pf): PositionwiseFeedforward(\n",
       "          (fc_1): Conv1d(64, 256, kernel_size=(1,), stride=(1,))\n",
       "          (fc_2): Conv1d(256, 64, kernel_size=(1,), stride=(1,))\n",
       "          (do): Dropout(p=0.1)\n",
       "        )\n",
       "        (do): Dropout(p=0.1)\n",
       "      )\n",
       "    )\n",
       "    (ft): Linear(in_features=34, out_features=64, bias=True)\n",
       "    (do): Dropout(p=0.1)\n",
       "    (fc_1): Linear(in_features=64, out_features=256, bias=True)\n",
       "    (fc_2): Linear(in_features=256, out_features=2, bias=True)\n",
       "  )\n",
       ")"
      ]
     },
     "execution_count": 3,
     "metadata": {},
     "output_type": "execute_result"
    }
   ],
   "source": [
    "from model_predict import *\n",
    "\n",
    "\"\"\" create model ,trainer and tester \"\"\"\n",
    "protein_dim = 100\n",
    "atom_dim = 34\n",
    "hid_dim = 64\n",
    "n_layers = 4\n",
    "n_heads = 8\n",
    "pf_dim = 256\n",
    "dropout = 0.1\n",
    "batch = 64\n",
    "lr = 1e-4\n",
    "weight_decay = 1e-4\n",
    "decay_interval = 5\n",
    "lr_decay = 1.0\n",
    "iteration = 100\n",
    "kernel_size = 7\n",
    "\n",
    "encoder = Encoder(protein_dim, hid_dim, n_layers, kernel_size, dropout, device)\n",
    "decoder = Decoder(atom_dim, hid_dim, n_layers, n_heads, pf_dim, DecoderLayer, SelfAttention, PositionwiseFeedforward, dropout, device)\n",
    "model = Predictor(encoder, decoder, device)\n",
    "model.load_state_dict(torch.load(\"lr=1e-4,dropout=0.1,weight_decay=1e-4,kernel=7,n_layer=4,batch=64\",map_location = lambda storage,loc:storage))\n",
    "model.to(device)"
   ]
  },
  {
   "cell_type": "code",
   "execution_count": 4,
   "metadata": {},
   "outputs": [
    {
     "data": {
      "text/plain": [
       "(0.37978753,\n",
       " tensor([0.0221, 0.0221, 0.0221, 0.0225, 0.0223, 0.0224, 0.0224, 0.0225, 0.0222,\n",
       "         0.0222, 0.0223, 0.0223, 0.0222, 0.0222, 0.0222, 0.0221, 0.0225, 0.0222,\n",
       "         0.0223, 0.0221, 0.0220, 0.0222, 0.0222, 0.0225, 0.0221, 0.0221, 0.0221,\n",
       "         0.0221, 0.0221, 0.0221, 0.0221, 0.0221, 0.0221, 0.0221, 0.0221, 0.0221,\n",
       "         0.0223, 0.0223, 0.0223, 0.0223, 0.0221, 0.0221, 0.0223, 0.0223, 0.0223]))"
      ]
     },
     "execution_count": 4,
     "metadata": {},
     "output_type": "execute_result"
    }
   ],
   "source": [
    "with torch.no_grad():\n",
    "    model.eval()\n",
    "    for data in dataset:\n",
    "        predicted_scores,norm,trg,sum = model(data, train=False)\n",
    "predicted_scores,norm"
   ]
  },
  {
   "cell_type": "code",
   "execution_count": 99,
   "metadata": {},
   "outputs": [
    {
     "data": {
      "text/plain": [
       "tensor([[ 0.0130, -0.5352, -0.3507,  0.1420,  0.1622,  0.2389,  0.2534,  0.0915,\n",
       "         -0.0164,  0.7527, -0.5606,  0.7433,  0.6455, -0.7754, -0.8588, -0.9015,\n",
       "         -0.0828,  0.1390, -1.2350,  0.1251, -0.5996, -1.1045,  2.5030, -0.5014,\n",
       "          1.7294,  0.0699,  0.3324, -1.1385,  0.6220,  0.0057, -1.6006, -0.8063,\n",
       "         -0.0405, -0.7073, -0.9673, -0.3232,  1.2731, -1.1750, -0.6459, -0.4882,\n",
       "         -0.1558,  0.2838,  0.7250,  0.7439, -1.2113, -0.2503, -1.1740,  1.2277,\n",
       "          1.1049,  0.1444,  0.2178, -0.4480,  0.2795,  1.9362,  2.3614,  0.0345,\n",
       "         -0.5818,  0.6369, -1.1539, -0.7636,  0.7040,  0.9029,  0.6139, -0.5196]])"
      ]
     },
     "execution_count": 99,
     "metadata": {},
     "output_type": "execute_result"
    }
   ],
   "source": [
    "sum"
   ]
  },
  {
   "cell_type": "code",
   "execution_count": 100,
   "metadata": {},
   "outputs": [
    {
     "data": {
      "text/plain": [
       "tensor([[ 1.1256,  0.3671, -0.3356,  ...,  0.7603, -1.5632,  0.0810],\n",
       "        [-0.4350, -0.9232, -0.5582,  ...,  1.0355,  0.9460, -1.2479],\n",
       "        [ 0.9992, -0.4320, -1.5532,  ..., -0.0176,  1.0689, -1.6585],\n",
       "        ...,\n",
       "        [-0.5149, -0.4737, -0.7096,  ...,  0.7278,  0.7670, -0.1749],\n",
       "        [-0.5149, -0.4737, -0.7096,  ...,  0.7278,  0.7670, -0.1749],\n",
       "        [-0.5149, -0.4737, -0.7096,  ...,  0.7278,  0.7670, -0.1749]])"
      ]
     },
     "execution_count": 100,
     "metadata": {},
     "output_type": "execute_result"
    }
   ],
   "source": [
    "trg"
   ]
  },
  {
   "cell_type": "markdown",
   "metadata": {},
   "source": [
    "# Calculate Cosine Similarity"
   ]
  },
  {
   "cell_type": "code",
   "execution_count": 101,
   "metadata": {},
   "outputs": [],
   "source": [
    "sum = sum.reshape(-1).numpy()\n",
    "trg = trg.numpy()"
   ]
  },
  {
   "cell_type": "code",
   "execution_count": 102,
   "metadata": {},
   "outputs": [
    {
     "name": "stdout",
     "output_type": "stream",
     "text": [
      "[0.48520583 0.92314714 0.66674078 0.8763566  0.8763566  0.87463248\n",
      " 0.7779395  0.88335323 0.80566061 0.75520253 0.84031916 0.69251096\n",
      " 0.69251096 0.47375906 0.8763566  0.8763566  0.8763566  0.50375032\n",
      " 0.88021386 0.8763566  0.8763566  0.92403746 0.92403746 0.92403746\n",
      " 0.92842734 0.92842734 0.92403746 0.92403746 0.92403746 0.92403746\n",
      " 0.92403746 0.92403746 0.92403746 0.92403746 0.92403746 0.92403746\n",
      " 0.92403746 0.92403746 0.92842734 0.92842734 0.92842734 0.92842734\n",
      " 0.92842734 0.92842734]\n"
     ]
    }
   ],
   "source": [
    "similarity = np.zeros(trg.shape[0])\n",
    "for i in range(trg.shape[0]):\n",
    "    candidate = trg[i,:]\n",
    "    similarity[i] = np.dot(candidate,sum)/(np.linalg.norm(candidate)*(np.linalg.norm(sum)))\n",
    "print(similarity)\n"
   ]
  },
  {
   "cell_type": "code",
   "execution_count": 103,
   "metadata": {},
   "outputs": [
    {
     "data": {
      "text/plain": [
       "array([ 1,  7, 18, 20,  3,  4, 16, 15, 14, 19,  5, 10,  8,  6,  9, 12, 11,\n",
       "        2, 17,  0, 13], dtype=int64)"
      ]
     },
     "execution_count": 103,
     "metadata": {},
     "output_type": "execute_result"
    }
   ],
   "source": [
    "np.argsort(-similarity[:21])"
   ]
  },
  {
   "cell_type": "code",
   "execution_count": 93,
   "metadata": {},
   "outputs": [
    {
     "data": {
      "image/png": "[encoded data removed]",
      "text/plain": [
       "<rdkit.Chem.rdchem.Mol at 0x27ac05cd5d0>"
      ]
     },
     "execution_count": 93,
     "metadata": {},
     "output_type": "execute_result"
    }
   ],
   "source": [
    "from rdkit.Chem import PyMol\n",
    "from rdkit import Chem\n",
    "import sys\n",
    "from IPython.display import SVG\n",
    "from rdkit import rdBase\n",
    "from rdkit.Chem import AllChem, DataStructs\n",
    "from rdkit.Chem.Draw import DrawMorganBit, DrawMorganBits,DrawMorganEnv, IPythonConsole\n",
    "mol_1='COc1ccc(CN(CCN(C)C)c2ccccn2)cc1'\n",
    "mol = Chem.MolFromSmiles(mol_1)\n",
    "mol"
   ]
  },
  {
   "cell_type": "code",
   "execution_count": 94,
   "metadata": {},
   "outputs": [],
   "source": [
    "def add_atom_index(mol):\n",
    "    atoms = mol.GetNumAtoms()\n",
    "    for i in range( atoms ):\n",
    "        mol.GetAtomWithIdx(i).SetProp(\n",
    "            'molAtomMapNumber', str(mol.GetAtomWithIdx(i).GetIdx()))\n",
    "    return mol,atoms"
   ]
  },
  {
   "cell_type": "code",
   "execution_count": 95,
   "metadata": {
    "scrolled": true
   },
   "outputs": [
    {
     "name": "stdout",
     "output_type": "stream",
     "text": [
      "21\n"
     ]
    },
    {
     "data": {
      "image/png": "[encoded data removed]",
      "text/plain": [
       "<rdkit.Chem.rdchem.Mol at 0x27ac05cd5d0>"
      ]
     },
     "execution_count": 95,
     "metadata": {},
     "output_type": "execute_result"
    }
   ],
   "source": [
    "from rdkit.Chem import Draw\n",
    "mols = []\n",
    "mol,atoms = add_atom_index(mol)\n",
    "print(atoms)\n",
    "mol\n",
    "#img = Draw.MolsToGridImage(mols, molsPerRow=1,subImgSize=(1200, 1200))\n",
    "#img.save(\"negative-1.png\")"
   ]
  }
 ],
 "metadata": {
  "kernelspec": {
   "display_name": "Python 3",
   "language": "python",
   "name": "python3"
  },
  "language_info": {
   "codemirror_mode": {
    "name": "ipython",
    "version": 3
   },
   "file_extension": ".py",
   "mimetype": "text/x-python",
   "name": "python",
   "nbconvert_exporter": "python",
   "pygments_lexer": "ipython3",
   "version": "3.7.3"
  }
 },
 "nbformat": 4,
 "nbformat_minor": 2
}